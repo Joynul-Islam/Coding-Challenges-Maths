{
 "cells": [
  {
   "cell_type": "code",
   "execution_count": 2,
   "metadata": {},
   "outputs": [],
   "source": [
    "import numpy as np"
   ]
  },
  {
   "cell_type": "code",
   "execution_count": 3,
   "metadata": {},
   "outputs": [],
   "source": [
    "def solver(a,b,c):\n",
    "    coefficients = np.array([[1,0,1], [1,1,0], [0,1,1]])\n",
    "    constants = np.array([a,b,c])\n",
    "    solution = np.linalg.solve(coefficients, constants)\n",
    "    \n",
    "    print(\"\"\"             {0}    \\n            /    \\ \\n           /      \\ \\n         {2}        {1}       \n",
    "         /          \\ \\n        /            \\ \\n     {4} _ _  {5}  _ _ {3}\n",
    "   \"\"\".format(solution[0],b,a,solution[1],solution[2],c))"
   ]
  },
  {
   "cell_type": "code",
   "execution_count": 4,
   "metadata": {},
   "outputs": [
    {
     "name": "stdout",
     "output_type": "stream",
     "text": [
      "             49.0    \n",
      "            /    \\ \n",
      "           /      \\ \n",
      "         73        84       \n",
      "         /          \\ \n",
      "        /            \\ \n",
      "     24.0 _ _  59  _ _ 35.0\n",
      "   \n"
     ]
    }
   ],
   "source": [
    "#https://nrich.maths.org/2670\n",
    "\"\"\"solver(a,b,c)\n",
    "   a: left side of triangluar arithmagon\n",
    "   b: right side of triangular arithmagon\n",
    "   c: bottom side of triangular arithmagon\"\"\"\n",
    "\n",
    "solver(73,84,59)"
   ]
  },
  {
   "cell_type": "code",
   "execution_count": null,
   "metadata": {},
   "outputs": [],
   "source": []
  }
 ],
 "metadata": {
  "kernelspec": {
   "display_name": "Python 3",
   "language": "python",
   "name": "python3"
  },
  "language_info": {
   "codemirror_mode": {
    "name": "ipython",
    "version": 3
   },
   "file_extension": ".py",
   "mimetype": "text/x-python",
   "name": "python",
   "nbconvert_exporter": "python",
   "pygments_lexer": "ipython3",
   "version": "3.5.2"
  }
 },
 "nbformat": 4,
 "nbformat_minor": 2
}
