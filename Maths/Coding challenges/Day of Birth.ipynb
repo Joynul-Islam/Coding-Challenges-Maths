{
 "cells": [
  {
   "cell_type": "code",
   "execution_count": 1,
   "metadata": {},
   "outputs": [],
   "source": [
    "import math"
   ]
  },
  {
   "cell_type": "code",
   "execution_count": 2,
   "metadata": {},
   "outputs": [],
   "source": [
    "def birthday(d,m,y):\n",
    "    if(m==1 or m==2):\n",
    "        y -= 1\n",
    "        m += 12\n",
    "    Yf = list(str(y))\n",
    "    Yl = list(str(y))\n",
    "    del Yf[-1]\n",
    "    del Yf[-1]\n",
    "    del Yl[0]\n",
    "    del Yl[0]\n",
    "    Yf = int(''.join(map(str,Yf)))\n",
    "    Yl = int(''.join(map(str,Yl)))\n",
    "    \n",
    "    total = math.floor((2.6*m)-5.39)+math.floor(Yf/4)+math.floor(Yl/4)+d+Yl-(2*Yf)\n",
    "    total = total%7\n",
    "    \n",
    "    if(total == 0):\n",
    "        return \"You were born on Sunday!\"\n",
    "    elif(total == 1):\n",
    "        return \"You were born on Monday!\"\n",
    "    elif(total == 2):\n",
    "        return \"You were born on Tuesday!\"\n",
    "    elif(total == 3):\n",
    "        return \"You were born on Wednesday!\"\n",
    "    elif(total == 4):\n",
    "        return \"You were born on Thursday!\"\n",
    "    elif(total == 5):\n",
    "        return \"You were born on Friday!\"\n",
    "    elif(total == 6):\n",
    "        return \"You were born on Saturday!\"\n",
    "    else:\n",
    "        return \"Something went wrong :(\""
   ]
  },
  {
   "cell_type": "code",
   "execution_count": 3,
   "metadata": {},
   "outputs": [
    {
     "data": {
      "text/plain": [
       "'You were born on Saturday!'"
      ]
     },
     "execution_count": 3,
     "metadata": {},
     "output_type": "execute_result"
    }
   ],
   "source": [
    "#birthday(day,month,year) in numbers\n",
    "birthday(1,1,2000)"
   ]
  },
  {
   "cell_type": "code",
   "execution_count": null,
   "metadata": {},
   "outputs": [],
   "source": []
  }
 ],
 "metadata": {
  "kernelspec": {
   "display_name": "Python 3",
   "language": "python",
   "name": "python3"
  },
  "language_info": {
   "codemirror_mode": {
    "name": "ipython",
    "version": 3
   },
   "file_extension": ".py",
   "mimetype": "text/x-python",
   "name": "python",
   "nbconvert_exporter": "python",
   "pygments_lexer": "ipython3",
   "version": "3.5.2"
  }
 },
 "nbformat": 4,
 "nbformat_minor": 2
}
